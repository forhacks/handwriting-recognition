{
 "cells": [
  {
   "cell_type": "code",
   "execution_count": 2,
   "metadata": {
    "collapsed": false
   },
   "outputs": [],
   "source": [
    "import numpy as np\n",
    "from scipy import misc\n",
    "from skimage.util import view_as_windows as viewW"
   ]
  },
  {
   "cell_type": "code",
   "execution_count": 3,
   "metadata": {
    "collapsed": false
   },
   "outputs": [],
   "source": [
    "def im2col(img, size, stepsize=1):\n",
    "    A = np.lib.pad(img, ((0,((size-len(img))%size)), (0,(size-len(img[0]))%size)), \"constant\", constant_values=0)\n",
    "    # Parameters\n",
    "    m,n = A.shape\n",
    "    s0, s1 = A.strides    \n",
    "    nrows = m-size+1\n",
    "    ncols = n-size+1\n",
    "    shp = size,size,nrows,ncols\n",
    "    strd = s0,s1,s0,s1\n",
    "\n",
    "    out_view = np.lib.stride_tricks.as_strided(A, shape=shp, strides=strd)\n",
    "    return out_view.reshape(size*size,-1)[:,::stepsize]"
   ]
  },
  {
   "cell_type": "code",
   "execution_count": 36,
   "metadata": {
    "collapsed": false
   },
   "outputs": [],
   "source": [
    "def convolve(img, filter):\n",
    "    newImg = im2col(img, len(filter))\n",
    "    print(len(newImg))\n",
    "    print(len(newImg[0]))\n",
    "    print(newImg)\n",
    "    print(filter)\n",
    "    newImg = np.multiply(newImg, filter)\n",
    "    return newImg.reshape((len(img),len(img[0])))\n",
    "def convolveLayer(layer, filters, newLayerNum):\n",
    "    layerNum = len(layer)\n",
    "    layerSize = [len(layer[0]),len(layer[0][0])]\n",
    "    outputLayer = np.zeros((newLayerNum, layerSize[0],layerSize[1]))\n",
    "    for j in range(newLayerNum):\n",
    "        for i in range(layerNum):\n",
    "            outputLayer[i]=np.add(outputLayer[i],convolve(layer[j], filters[i][j]))\n",
    "    return outputLayer\n",
    "def maxPool(img, size):\n",
    "    newImg = im2col(img, size,stepsize=size)\n",
    "    newImg = np.amax(newImg, axis=1)\n",
    "    return newImg.reshape((len(img),len(img[0])))\n",
    "def poolLayer(layer, size):\n",
    "    layerNum = len(layer)\n",
    "    layerSize = [len(layer[0]),len(layer[0][0])]\n",
    "    outputLayer = [None]*layerNum\n",
    "    for i in range(layerNum):\n",
    "        outputLayer[i] = maxPool(layer[i], size)\n",
    "    return outputLayer\n",
    "def reluLayer(layer, leak=0.01):\n",
    "    gradients = 1. * (layer > 0)\n",
    "    gradients[gradients == 0] = leak\n",
    "    return gradients"
   ]
  },
  {
   "cell_type": "code",
   "execution_count": 37,
   "metadata": {
    "collapsed": false
   },
   "outputs": [],
   "source": [
    "img = np.divide(misc.imread(\"/Users/frank/Desktop/Github/Flag-Recognizer/save_save_save_america08.jpg\", flatten=True),255)-0.5"
   ]
  },
  {
   "cell_type": "code",
   "execution_count": 38,
   "metadata": {
    "collapsed": true
   },
   "outputs": [],
   "source": [
    "def initFilters(layerSizes, size):\n",
    "    filters = [None]*(len(layerSizes)-1)\n",
    "    for i in range(len(layerSizes)-1):\n",
    "        filters[i] = 0.01*np.random.random((layerSizes[i],layerSizes[i+1], size*size))-0.005\n",
    "    return filters"
   ]
  },
  {
   "cell_type": "code",
   "execution_count": 39,
   "metadata": {
    "collapsed": false
   },
   "outputs": [
    {
     "name": "stdout",
     "output_type": "stream",
     "text": [
      "81\n",
      "190\n",
      "[[-0.45831764 -0.48075685 -0.4844     ...,  0.36849415  0.44137645\n",
      "   0.40570587]\n",
      " [-0.48075685 -0.4844     -0.4637059  ...,  0.44137645  0.40570587\n",
      "   0.34574115]\n",
      " [-0.4844     -0.4637059  -0.49539608 ...,  0.40570587  0.34574115\n",
      "   0.34945101]\n",
      " ..., \n",
      " [-0.31942743 -0.15864316 -0.10670197 ...,  0.          0.          0.        ]\n",
      " [-0.15864316 -0.10670197 -0.10056078 ...,  0.          0.          0.        ]\n",
      " [-0.10670197 -0.10056078 -0.03621176 ...,  0.          0.          0.        ]]\n",
      "[ 0.00085863 -0.0015703   0.00034646  0.00451808 -0.00261256  0.0028396\n",
      " -0.00024312  0.00276134 -0.00152639]\n"
     ]
    },
    {
     "ename": "ValueError",
     "evalue": "operands could not be broadcast together with shapes (81,190) (9,) ",
     "output_type": "error",
     "traceback": [
      "\u001b[0;31m---------------------------------------------------------------------------\u001b[0m",
      "\u001b[0;31mValueError\u001b[0m                                Traceback (most recent call last)",
      "\u001b[0;32m<ipython-input-39-f85b3a7d5b89>\u001b[0m in \u001b[0;36m<module>\u001b[0;34m()\u001b[0m\n\u001b[1;32m      1\u001b[0m \u001b[0mlayerSizes\u001b[0m\u001b[0;34m=\u001b[0m\u001b[0;34m[\u001b[0m\u001b[0;36m1\u001b[0m\u001b[0;34m,\u001b[0m \u001b[0;36m10\u001b[0m\u001b[0;34m,\u001b[0m \u001b[0;36m10\u001b[0m\u001b[0;34m,\u001b[0m \u001b[0;36m4\u001b[0m\u001b[0;34m]\u001b[0m\u001b[0;34m\u001b[0m\u001b[0m\n\u001b[1;32m      2\u001b[0m \u001b[0mfilters\u001b[0m\u001b[0;34m=\u001b[0m\u001b[0minitFilters\u001b[0m\u001b[0;34m(\u001b[0m\u001b[0mlayerSizes\u001b[0m\u001b[0;34m,\u001b[0m \u001b[0;36m3\u001b[0m\u001b[0;34m)\u001b[0m\u001b[0;34m\u001b[0m\u001b[0m\n\u001b[0;32m----> 3\u001b[0;31m \u001b[0mlayer1\u001b[0m \u001b[0;34m=\u001b[0m \u001b[0mconvolveLayer\u001b[0m\u001b[0;34m(\u001b[0m\u001b[0;34m[\u001b[0m\u001b[0mimg\u001b[0m\u001b[0;34m]\u001b[0m\u001b[0;34m,\u001b[0m \u001b[0mfilters\u001b[0m\u001b[0;34m[\u001b[0m\u001b[0;36m0\u001b[0m\u001b[0;34m]\u001b[0m\u001b[0;34m,\u001b[0m \u001b[0mlayerSizes\u001b[0m\u001b[0;34m[\u001b[0m\u001b[0;36m1\u001b[0m\u001b[0;34m]\u001b[0m\u001b[0;34m)\u001b[0m\u001b[0;34m\u001b[0m\u001b[0m\n\u001b[0m\u001b[1;32m      4\u001b[0m \u001b[0mlayer1_pool\u001b[0m \u001b[0;34m=\u001b[0m \u001b[0mpoolLayer\u001b[0m\u001b[0;34m(\u001b[0m\u001b[0mlayer1\u001b[0m\u001b[0;34m)\u001b[0m\u001b[0;34m\u001b[0m\u001b[0m\n\u001b[1;32m      5\u001b[0m \u001b[0mlayer1_relu\u001b[0m \u001b[0;34m=\u001b[0m \u001b[0mreluLayer\u001b[0m\u001b[0;34m(\u001b[0m\u001b[0mlayer1_pool\u001b[0m\u001b[0;34m)\u001b[0m\u001b[0;34m\u001b[0m\u001b[0m\n",
      "\u001b[0;32m<ipython-input-36-ef8bb1b11e05>\u001b[0m in \u001b[0;36mconvolveLayer\u001b[0;34m(layer, filters, newLayerNum)\u001b[0m\n\u001b[1;32m     13\u001b[0m     \u001b[0;32mfor\u001b[0m \u001b[0mj\u001b[0m \u001b[0;32min\u001b[0m \u001b[0mrange\u001b[0m\u001b[0;34m(\u001b[0m\u001b[0mnewLayerNum\u001b[0m\u001b[0;34m)\u001b[0m\u001b[0;34m:\u001b[0m\u001b[0;34m\u001b[0m\u001b[0m\n\u001b[1;32m     14\u001b[0m         \u001b[0;32mfor\u001b[0m \u001b[0mi\u001b[0m \u001b[0;32min\u001b[0m \u001b[0mrange\u001b[0m\u001b[0;34m(\u001b[0m\u001b[0mlayerNum\u001b[0m\u001b[0;34m)\u001b[0m\u001b[0;34m:\u001b[0m\u001b[0;34m\u001b[0m\u001b[0m\n\u001b[0;32m---> 15\u001b[0;31m             \u001b[0moutputLayer\u001b[0m\u001b[0;34m[\u001b[0m\u001b[0mi\u001b[0m\u001b[0;34m]\u001b[0m\u001b[0;34m=\u001b[0m\u001b[0mnp\u001b[0m\u001b[0;34m.\u001b[0m\u001b[0madd\u001b[0m\u001b[0;34m(\u001b[0m\u001b[0moutputLayer\u001b[0m\u001b[0;34m[\u001b[0m\u001b[0mi\u001b[0m\u001b[0;34m]\u001b[0m\u001b[0;34m,\u001b[0m\u001b[0mconvolve\u001b[0m\u001b[0;34m(\u001b[0m\u001b[0mlayer\u001b[0m\u001b[0;34m[\u001b[0m\u001b[0mj\u001b[0m\u001b[0;34m]\u001b[0m\u001b[0;34m,\u001b[0m \u001b[0mfilters\u001b[0m\u001b[0;34m[\u001b[0m\u001b[0mi\u001b[0m\u001b[0;34m]\u001b[0m\u001b[0;34m[\u001b[0m\u001b[0mj\u001b[0m\u001b[0;34m]\u001b[0m\u001b[0;34m)\u001b[0m\u001b[0;34m)\u001b[0m\u001b[0;34m\u001b[0m\u001b[0m\n\u001b[0m\u001b[1;32m     16\u001b[0m     \u001b[0;32mreturn\u001b[0m \u001b[0moutputLayer\u001b[0m\u001b[0;34m\u001b[0m\u001b[0m\n\u001b[1;32m     17\u001b[0m \u001b[0;32mdef\u001b[0m \u001b[0mmaxPool\u001b[0m\u001b[0;34m(\u001b[0m\u001b[0mimg\u001b[0m\u001b[0;34m,\u001b[0m \u001b[0msize\u001b[0m\u001b[0;34m)\u001b[0m\u001b[0;34m:\u001b[0m\u001b[0;34m\u001b[0m\u001b[0m\n",
      "\u001b[0;32m<ipython-input-36-ef8bb1b11e05>\u001b[0m in \u001b[0;36mconvolve\u001b[0;34m(img, filter)\u001b[0m\n\u001b[1;32m      5\u001b[0m     \u001b[0mprint\u001b[0m\u001b[0;34m(\u001b[0m\u001b[0mnewImg\u001b[0m\u001b[0;34m)\u001b[0m\u001b[0;34m\u001b[0m\u001b[0m\n\u001b[1;32m      6\u001b[0m     \u001b[0mprint\u001b[0m\u001b[0;34m(\u001b[0m\u001b[0mfilter\u001b[0m\u001b[0;34m)\u001b[0m\u001b[0;34m\u001b[0m\u001b[0m\n\u001b[0;32m----> 7\u001b[0;31m     \u001b[0mnewImg\u001b[0m \u001b[0;34m=\u001b[0m \u001b[0mnp\u001b[0m\u001b[0;34m.\u001b[0m\u001b[0mmultiply\u001b[0m\u001b[0;34m(\u001b[0m\u001b[0mnewImg\u001b[0m\u001b[0;34m,\u001b[0m \u001b[0mfilter\u001b[0m\u001b[0;34m)\u001b[0m\u001b[0;34m\u001b[0m\u001b[0m\n\u001b[0m\u001b[1;32m      8\u001b[0m     \u001b[0;32mreturn\u001b[0m \u001b[0mnewImg\u001b[0m\u001b[0;34m.\u001b[0m\u001b[0mreshape\u001b[0m\u001b[0;34m(\u001b[0m\u001b[0;34m(\u001b[0m\u001b[0mlen\u001b[0m\u001b[0;34m(\u001b[0m\u001b[0mimg\u001b[0m\u001b[0;34m)\u001b[0m\u001b[0;34m,\u001b[0m\u001b[0mlen\u001b[0m\u001b[0;34m(\u001b[0m\u001b[0mimg\u001b[0m\u001b[0;34m[\u001b[0m\u001b[0;36m0\u001b[0m\u001b[0;34m]\u001b[0m\u001b[0;34m)\u001b[0m\u001b[0;34m)\u001b[0m\u001b[0;34m)\u001b[0m\u001b[0;34m\u001b[0m\u001b[0m\n\u001b[1;32m      9\u001b[0m \u001b[0;32mdef\u001b[0m \u001b[0mconvolveLayer\u001b[0m\u001b[0;34m(\u001b[0m\u001b[0mlayer\u001b[0m\u001b[0;34m,\u001b[0m \u001b[0mfilters\u001b[0m\u001b[0;34m,\u001b[0m \u001b[0mnewLayerNum\u001b[0m\u001b[0;34m)\u001b[0m\u001b[0;34m:\u001b[0m\u001b[0;34m\u001b[0m\u001b[0m\n",
      "\u001b[0;31mValueError\u001b[0m: operands could not be broadcast together with shapes (81,190) (9,) "
     ]
    }
   ],
   "source": [
    "layerSizes=[1, 10, 10, 4]\n",
    "filters=initFilters(layerSizes, 3)\n",
    "layer1 = convolveLayer([img], filters[0], layerSizes[1])\n",
    "layer1_pool = poolLayer(layer1)\n",
    "layer1_relu = reluLayer(layer1_pool)\n",
    "layer2 = convolveLayer(layer1_relu, filters[1], layerSizes[2])\n",
    "layer2_pool = poolLayer(layer2)\n",
    "layer2_relu = reluLayer(layer2_pool)\n",
    "layer3 = convolveLayer(layer2_relu, filters[2], layerSizes[3])\n",
    "print(layer3)"
   ]
  },
  {
   "cell_type": "code",
   "execution_count": null,
   "metadata": {
    "collapsed": true
   },
   "outputs": [],
   "source": []
  },
  {
   "cell_type": "code",
   "execution_count": null,
   "metadata": {
    "collapsed": true
   },
   "outputs": [],
   "source": []
  },
  {
   "cell_type": "code",
   "execution_count": null,
   "metadata": {
    "collapsed": false
   },
   "outputs": [],
   "source": [
    "#test im2col\n",
    "print(im2col(np.array([[6,5,4],[1,2,3]]),2,stepsize=2))"
   ]
  },
  {
   "cell_type": "code",
   "execution_count": null,
   "metadata": {
    "collapsed": true
   },
   "outputs": [],
   "source": []
  }
 ],
 "metadata": {
  "kernelspec": {
   "display_name": "Python 3",
   "language": "python",
   "name": "python3"
  },
  "language_info": {
   "codemirror_mode": {
    "name": "ipython",
    "version": 3
   },
   "file_extension": ".py",
   "mimetype": "text/x-python",
   "name": "python",
   "nbconvert_exporter": "python",
   "pygments_lexer": "ipython3",
   "version": "3.6.0"
  }
 },
 "nbformat": 4,
 "nbformat_minor": 2
}
